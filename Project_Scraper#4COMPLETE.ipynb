{
 "cells": [
  {
   "cell_type": "code",
   "execution_count": 1,
   "id": "afa11eb9",
   "metadata": {},
   "outputs": [],
   "source": [
    "import requests\n",
    "import pandas as pd\n",
    "from bs4 import BeautifulSoup\n",
    "from urllib.parse import urlparse\n",
    "import re\n",
    "from collections import Counter"
   ]
  },
  {
   "cell_type": "markdown",
   "id": "13bdee02",
   "metadata": {},
   "source": [
    "URLs Go Here"
   ]
  },
  {
   "cell_type": "code",
   "execution_count": 2,
   "id": "e34c7430",
   "metadata": {},
   "outputs": [],
   "source": [
    "job_urls = [\n",
    "    \"https://jobs.lever.co/palantir/76a60923-bb49-40f5-b061-7c7eb1299602\",\n",
    "    \"https://jobs.lever.co/palantir/bc5c4098-07d5-49ed-a398-a27e6191aa30\",\n",
    "    \"https://jobs.lever.co/voleon/bdc0c822-f9fa-47d3-bba1-3a25fcc6b6e2\",\n",
    "    \"https://jobs.lever.co/theodo/1592b48f-9207-46f2-908e-d835cc6121ad\",\n",
    "    \"https://job-boards.greenhouse.io/mthreerecruitingportal/jobs/4401897006\",\n",
    "    \"https://job-boards.eu.greenhouse.io/quantboxresearchpte/jobs/4228244101\",\n",
    "    \"https://jobs.lever.co/apolloresearch/64a79893-84bf-4005-a762-852ee2bcccce\",\n",
    "    \"https://job-boards.eu.greenhouse.io/aisi/jobs/4386112101\",\n",
    "    \"https://job-boards.eu.greenhouse.io/copperco/jobs/4639292101\",\n",
    "    \"https://jobs.lever.co/palantir/d372c805-d0cd-4a10-9522-fbecc78d6f3e\",\n",
    "    \"https://job-boards.greenhouse.io/nx5j6ba7z1p2ujjnx5j6ba7z1p2ujj/jobs/5536985004\",\n",
    "    \"https://job-boards.greenhouse.io/figma/jobs/5551697004?gh_jid=5551697004\",\n",
    "    \"https://job-boards.greenhouse.io/speechify/jobs/5612196004\",\n",
    "    \"https://job-boards.greenhouse.io/speechify/jobs/5614710004\",\n",
    "    \"https://job-boards.greenhouse.io/clearstreet/jobs/6884339\",\n",
    "    \"https://jobs.lever.co/olo/202c058d-f2bc-4cd9-9d25-6ff3164f5812\",\n",
    "    \"https://job-boards.greenhouse.io/via/jobs/7758764002\",\n",
    "    \"https://job-boards.eu.greenhouse.io/physicsx/jobs/4652615101\",\n",
    "    \"https://job-boards.greenhouse.io/speechify/jobs/5614725004\",\n",
    "    \"https://jobs.lever.co/palantir/c44510a1-9537-4c52-ae81-51546979fe47\",\n",
    "    \"https://job-boards.greenhouse.io/speechify/jobs/5614010004\",\n",
    "    \"https://job-boards.greenhouse.io/speechify/jobs/5614747004\",\n",
    "    \"https://job-boards.greenhouse.io/speechify/jobs/5613965004\",\n",
    "    \"https://job-boards.greenhouse.io/mattermost/jobs/4885981008?gh_src=kKpezZ\",\n",
    "    \"https://jobs.lever.co/palantir/5168e8fd-fec1-4fea-b7a1-81bdaea65850\",\n",
    "    \"https://job-boards.eu.greenhouse.io/polyai/jobs/4653835101\",\n",
    "    \"https://job-boards.eu.greenhouse.io/mast/jobs/4060297101\",\n",
    "    \"https://job-boards.eu.greenhouse.io/quantboxresearchpte/jobs/4231150101\",\n",
    "    \"https://job-boards.greenhouse.io/pharomanagement/jobs/6489121003\",\n",
    "    \"https://job-boards.eu.greenhouse.io/nothing/jobs/4639317101\",\n",
    "    \"https://jobs.lever.co/crypto/bedb489a-a587-4a3b-ae4e-76daa1d7b98a\",\n",
    "    \"https://job-boards.greenhouse.io/fiveringsllc/jobs/4817027008\",\n",
    "    \"https://job-boards.greenhouse.io/infomedia/jobs/6607921003\",\n",
    "    \"https://jobs.lever.co/octoenergy/b841ead2-9d99-487a-a150-bf355a1e4fdb\",\n",
    "    \"https://job-boards.greenhouse.io/speechify/jobs/5614742004\",\n",
    "    \"https://job-boards.greenhouse.io/speechify/jobs/5614715004\",\n",
    "    \"https://job-boards.eu.greenhouse.io/modoenergy/jobs/4516559101\",\n",
    "    \"https://job-boards.eu.greenhouse.io/physicsx/jobs/4644847101\",\n",
    "    \"https://jobs.lever.co/palantir/3f4dd595-2f57-4b5f-a50a-8d3084641ef8\",\n",
    "    \"https://job-boards.greenhouse.io/janestreet/jobs/6236002002\",\n",
    "    \"https://job-boards.greenhouse.io/dataikujobs/jobs/5420320004\",\n",
    "    \"https://job-boards.greenhouse.io/speechify/jobs/5614736004\",\n",
    "    \"https://job-boards.eu.greenhouse.io/physicsx/jobs/4652622101\",\n",
    "    \"https://job-boards.greenhouse.io/sevenroomsuk/jobs/7117699\",\n",
    "    \"https://job-boards.greenhouse.io/xtxmarketstechnologies/jobs/6593467003\"\n",
    "    \"https://jobs.lever.co/Yassir/13c90265-5c71-492d-a570-9c3af60282b0\",\n",
    "    \"https://job-boards.greenhouse.io/clickhouse/jobs/5492195004\",\n",
    "    \"https://job-boards.greenhouse.io/andurilindustries/jobs/4544851007?gh_jid=4544851007\",\n",
    "    \"https://job-boards.greenhouse.io/xtxmarketstechnologies/jobs/5901218003\",\n",
    "    \"https://job-boards.greenhouse.io/addepar1/jobs/8076643002\",\n",
    "    \"https://job-boards.greenhouse.io/blackduck/jobs/4822383008?gh_src=F-Prime+Capital+Partners+job+board\"\n",
    "    \n",
    "]"
   ]
  },
  {
   "cell_type": "markdown",
   "id": "46267c46",
   "metadata": {},
   "source": [
    "Terms and Lists "
   ]
  },
  {
   "cell_type": "code",
   "execution_count": 3,
   "id": "1b8c4de5",
   "metadata": {},
   "outputs": [],
   "source": [
    "level_terms = [\"intern\", \"graduate\", \"entry\", \"entry-level\", \"early career\", \"junior\", \"new grad\"]\n",
    "tech_terms = [\"software\", \"developer\", \"engineer\", \"fullstack\", \"frontend\", \"backend\", \"devops\", \"platform\"]\n",
    "skills_keywords = ['python', 'java', 'c++', 'c#', '.net', 'ruby', 'Go', 'r', 'scala', 'Swift', 'kotlin', 'javascript', 'typescript', 'node', 'react', 'angular', 'vue.js', 'django', 'flask', 'spring', 'express.js', 'html', 'css', 'sql', 'postgresql', 'mysql', 'mongodb', 'cassandra', 'redis', 'spark', 'hadoop', 'aws', 'azure', 'gcp', 'docker', 'kubernetes', 'terraform', 'ansible', 'jenkins', 'gitlab ci/cd', 'github actions', 'aws lambda', 'azure functions', 'git', 'svn', 'rabbitmq', 'kafka', 'linux', 'llm', 'data structures', 'algorithms']"
   ]
  },
  {
   "cell_type": "code",
   "execution_count": 4,
   "id": "5c1c7180",
   "metadata": {},
   "outputs": [],
   "source": [
    "def is_target_role(title, description):\n",
    "    title = title.lower()\n",
    "    description = description.lower()\n",
    "    return (\n",
    "        any(kw in title for kw in level_terms) and\n",
    "        any(t in title or t in description for t in tech_terms)\n",
    "    )\n",
    "\n",
    "def extract_skills(text):\n",
    "    text = text.lower()\n",
    "    return [kw for kw in skills_keywords if kw in text]"
   ]
  },
  {
   "cell_type": "markdown",
   "id": "198ed7f3",
   "metadata": {},
   "source": [
    "Main Function"
   ]
  },
  {
   "cell_type": "code",
   "execution_count": null,
   "id": "327cd843",
   "metadata": {},
   "outputs": [],
   "source": [
    "def parse_job_url(url):\n",
    "    path = urlparse(url).path.strip(\"/\")\n",
    "    domain = urlparse(url).netloc\n",
    "\n",
    "    if \"greenhouse.io\" in domain:\n",
    "        match = re.match(r\"([^/]+)/jobs/(\\d+)\", path)\n",
    "        if match:\n",
    "            return {\"platform\": \"greenhouse\", \"company\": match.group(1), \"job_id\": match.group(2)}\n",
    "\n",
    "    elif \"lever.co\" in domain:\n",
    "        match = re.match(r\"([^/]+)/([a-zA-Z0-9]+)\", path)\n",
    "        if match:\n",
    "            return {\"platform\": \"lever\", \"company\": match.group(1), \"job_token\": match.group(2)}\n",
    "\n",
    "    return None\n",
    "\n",
    "def dispatch_scraper(url):\n",
    "    parsed = parse_job_url(url)\n",
    "    if not parsed:\n",
    "        print(f\"Unsupported or unparseable URL: {url}\")\n",
    "        return None\n",
    "\n",
    "    if parsed[\"platform\"] == \"greenhouse\":\n",
    "        return scrape_greenhouse(parsed[\"company\"], parsed[\"job_id\"], url)\n",
    "\n",
    "    elif parsed[\"platform\"] == \"lever\":\n",
    "        return scrape_lever(parsed[\"company\"], parsed[\"job_token\"], url)\n",
    "\n",
    "    print(f\"Unknown platform for: {url}\")\n",
    "    return None"
   ]
  },
  {
   "cell_type": "markdown",
   "id": "3aeceaa2",
   "metadata": {},
   "source": [
    "Greenhouse"
   ]
  },
  {
   "cell_type": "code",
   "execution_count": null,
   "id": "21ad3db4",
   "metadata": {},
   "outputs": [],
   "source": [
    "def scrape_greenhouse(company, job_id, url):\n",
    "    api_url = f\"https://boards-api.greenhouse.io/v1/boards/{company}/jobs/{job_id}\"\n",
    "    resp = requests.get(api_url)\n",
    "    if resp.status_code != 200:\n",
    "        print(f\"Failed to fetch Greenhouse job: {url}\")\n",
    "        return None\n",
    "\n",
    "    data = resp.json()\n",
    "    title = data.get(\"title\", \"\")\n",
    "    location = data.get(\"location\", {}).get(\"name\", \"Unknown\").lower()\n",
    "    description_html = data.get(\"content\", \"\")\n",
    "    description = BeautifulSoup(description_html, \"html.parser\").get_text()\n",
    "\n",
    "    #if not is_target_role(title, description):\n",
    "        #print(f\"Skipped non-target role: {title} ({location})\")\n",
    "        #return None\n",
    "\n",
    "    return {\n",
    "        \"title\": title,\n",
    "        \"company\": company,\n",
    "        \"location\": location,\n",
    "        \"url\": url,\n",
    "        \"description\": description,\n",
    "        \"skills\": extract_skills(description)\n",
    "    }\n"
   ]
  },
  {
   "cell_type": "markdown",
   "id": "f01a12bb",
   "metadata": {},
   "source": [
    "Lever"
   ]
  },
  {
   "cell_type": "code",
   "execution_count": null,
   "id": "7362de00",
   "metadata": {},
   "outputs": [],
   "source": [
    "def scrape_lever(company, job_token, url):\n",
    "    resp = requests.get(url)\n",
    "    if resp.status_code != 200:\n",
    "        print(f\"Failed to fetch Lever job: {url}\")\n",
    "        return None\n",
    "\n",
    "    soup = BeautifulSoup(resp.text, \"html.parser\")\n",
    "\n",
    "    # Try multiple strategies for extracting the title\n",
    "    title_tag = (\n",
    "    soup.find(\"h2\", class_=\"posting-headline\") or\n",
    "    soup.find(\"h1\") or\n",
    "    soup.find(\"h2\") or\n",
    "    soup.title\n",
    ")\n",
    "    title = title_tag.get_text(strip=True) if title_tag else \"Unknown Title\"\n",
    "\n",
    "\n",
    "    location_tag = soup.find(\"div\", class_=\"location\")\n",
    "    location = location_tag.get_text(strip=True) if location_tag else \"Unknown\"\n",
    "\n",
    "    desc_tag = soup.find(\"div\", class_=\"section page-centered\")\n",
    "    description = desc_tag.get_text(separator=\" \", strip=True) if desc_tag else \"\"\n",
    "\n",
    "    #if not is_target_role(title, description):\n",
    "        #print(f\"Skipped non-target role: {title} ({location})\")\n",
    "        #return None\n",
    "\n",
    "    return {\n",
    "        \"title\": title,\n",
    "        \"company\": company,\n",
    "        \"location\": location.lower(),\n",
    "        \"url\": url,\n",
    "        \"description\": description,\n",
    "        \"skills\": extract_skills(description)\n",
    "    }\n",
    "    \n",
    "jobs_data = []\n",
    "for url in job_urls:\n",
    "    result = dispatch_scraper(url)\n",
    "    if result:\n",
    "        jobs_data.append(result)"
   ]
  },
  {
   "cell_type": "code",
   "execution_count": null,
   "id": "db8e8188",
   "metadata": {},
   "outputs": [],
   "source": [
    "df = pd.DataFrame(jobs_data)\n",
    "df.to_csv(\"Greenhouse&Lever_Scraped_Jobs.csv\", index=False)\n",
    "print(\"Job data saved to Greenhousee&Lever_Scraped_Jobs.csv\")\n",
    "print(f\"Total jobs scraped: {len(df)}\")"
   ]
  },
  {
   "cell_type": "markdown",
   "id": "ae835d5f",
   "metadata": {},
   "source": [
    "Keyword Frequency Analysis"
   ]
  },
  {
   "cell_type": "code",
   "execution_count": null,
   "id": "5e4677da",
   "metadata": {},
   "outputs": [],
   "source": [
    "all_skills = [s for sublist in df['skills'] for s in sublist]\n",
    "skill_freq = Counter(all_skills)\n",
    "freq_df = pd.DataFrame(list(skill_freq.items()), columns=['Skill', 'Frequency']).sort_values(by='Frequency', ascending=False)\n",
    "freq_df.to_csv(\"Greenhouse&Lever_Skill_Frequency.csv\", index=False)\n",
    "print(\"Skill frequency saved to Greenhouse&Lever_Skill_Frequency.csv\")"
   ]
  }
 ],
 "metadata": {
  "kernelspec": {
   "display_name": "Python 3",
   "language": "python",
   "name": "python3"
  },
  "language_info": {
   "codemirror_mode": {
    "name": "ipython",
    "version": 3
   },
   "file_extension": ".py",
   "mimetype": "text/x-python",
   "name": "python",
   "nbconvert_exporter": "python",
   "pygments_lexer": "ipython3",
   "version": "3.10.4"
  }
 },
 "nbformat": 4,
 "nbformat_minor": 5
}
